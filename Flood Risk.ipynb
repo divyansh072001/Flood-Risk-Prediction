{
 "cells": [
  {
   "cell_type": "code",
   "execution_count": 1,
   "metadata": {},
   "outputs": [],
   "source": [
    "# import the required libraries\n",
    "import pandas as pd\n",
    "import matplotlib.pyplot as plt\n",
    "import numpy as np\n",
    "from sklearn.preprocessing import MinMaxScaler\n",
    "from sklearn.model_selection import train_test_split\n",
    "from sklearn.metrics import accuracy_score"
   ]
  },
  {
   "cell_type": "code",
   "execution_count": 2,
   "metadata": {},
   "outputs": [
    {
     "data": {
      "text/html": [
       "<div>\n",
       "<style scoped>\n",
       "    .dataframe tbody tr th:only-of-type {\n",
       "        vertical-align: middle;\n",
       "    }\n",
       "\n",
       "    .dataframe tbody tr th {\n",
       "        vertical-align: top;\n",
       "    }\n",
       "\n",
       "    .dataframe thead th {\n",
       "        text-align: right;\n",
       "    }\n",
       "</style>\n",
       "<table border=\"1\" class=\"dataframe\">\n",
       "  <thead>\n",
       "    <tr style=\"text-align: right;\">\n",
       "      <th></th>\n",
       "      <th>adm2_name</th>\n",
       "      <th>adm2_code</th>\n",
       "      <th>adm1_name</th>\n",
       "      <th>AreaKm2</th>\n",
       "      <th>AreaFLRisk</th>\n",
       "      <th>PercFLRisk</th>\n",
       "      <th>PercFLClas</th>\n",
       "      <th>FLMaxFreq</th>\n",
       "      <th>FLMaxClass</th>\n",
       "      <th>FloodRisk</th>\n",
       "      <th>FloodClass</th>\n",
       "      <th>FloodText</th>\n",
       "    </tr>\n",
       "  </thead>\n",
       "  <tbody>\n",
       "    <tr>\n",
       "      <th>0</th>\n",
       "      <td>Jebal Aulya</td>\n",
       "      <td>0</td>\n",
       "      <td>Khartoum</td>\n",
       "      <td>780</td>\n",
       "      <td>116</td>\n",
       "      <td>15</td>\n",
       "      <td>2</td>\n",
       "      <td>28</td>\n",
       "      <td>3</td>\n",
       "      <td>5</td>\n",
       "      <td>3</td>\n",
       "      <td>High</td>\n",
       "    </tr>\n",
       "    <tr>\n",
       "      <th>1</th>\n",
       "      <td>Um Badah</td>\n",
       "      <td>1</td>\n",
       "      <td>Khartoum</td>\n",
       "      <td>3469</td>\n",
       "      <td>2</td>\n",
       "      <td>0</td>\n",
       "      <td>1</td>\n",
       "      <td>2</td>\n",
       "      <td>1</td>\n",
       "      <td>2</td>\n",
       "      <td>1</td>\n",
       "      <td>Low</td>\n",
       "    </tr>\n",
       "    <tr>\n",
       "      <th>2</th>\n",
       "      <td>Bahri (Khartoum North)</td>\n",
       "      <td>2</td>\n",
       "      <td>Khartoum</td>\n",
       "      <td>3200</td>\n",
       "      <td>202</td>\n",
       "      <td>6</td>\n",
       "      <td>1</td>\n",
       "      <td>21</td>\n",
       "      <td>3</td>\n",
       "      <td>4</td>\n",
       "      <td>2</td>\n",
       "      <td>Medium</td>\n",
       "    </tr>\n",
       "    <tr>\n",
       "      <th>3</th>\n",
       "      <td>Sharq El Nile</td>\n",
       "      <td>3</td>\n",
       "      <td>Khartoum</td>\n",
       "      <td>9471</td>\n",
       "      <td>631</td>\n",
       "      <td>7</td>\n",
       "      <td>1</td>\n",
       "      <td>17</td>\n",
       "      <td>3</td>\n",
       "      <td>4</td>\n",
       "      <td>2</td>\n",
       "      <td>Medium</td>\n",
       "    </tr>\n",
       "    <tr>\n",
       "      <th>4</th>\n",
       "      <td>Karari</td>\n",
       "      <td>4</td>\n",
       "      <td>Khartoum</td>\n",
       "      <td>2916</td>\n",
       "      <td>72</td>\n",
       "      <td>2</td>\n",
       "      <td>1</td>\n",
       "      <td>21</td>\n",
       "      <td>3</td>\n",
       "      <td>4</td>\n",
       "      <td>2</td>\n",
       "      <td>Medium</td>\n",
       "    </tr>\n",
       "  </tbody>\n",
       "</table>\n",
       "</div>"
      ],
      "text/plain": [
       "                adm2_name  adm2_code adm1_name  AreaKm2  AreaFLRisk  \\\n",
       "0             Jebal Aulya          0  Khartoum      780         116   \n",
       "1                Um Badah          1  Khartoum     3469           2   \n",
       "2  Bahri (Khartoum North)          2  Khartoum     3200         202   \n",
       "3           Sharq El Nile          3  Khartoum     9471         631   \n",
       "4                  Karari          4  Khartoum     2916          72   \n",
       "\n",
       "   PercFLRisk  PercFLClas  FLMaxFreq  FLMaxClass  FloodRisk  FloodClass  \\\n",
       "0          15           2         28           3          5           3   \n",
       "1           0           1          2           1          2           1   \n",
       "2           6           1         21           3          4           2   \n",
       "3           7           1         17           3          4           2   \n",
       "4           2           1         21           3          4           2   \n",
       "\n",
       "  FloodText  \n",
       "0      High  \n",
       "1       Low  \n",
       "2    Medium  \n",
       "3    Medium  \n",
       "4    Medium  "
      ]
     },
     "execution_count": 2,
     "metadata": {},
     "output_type": "execute_result"
    }
   ],
   "source": [
    "# read the dataset and load into a pandas dataframe\n",
    "data = pd.read_csv(\"sudan dataset.csv\")\n",
    "data.head(\n",
    ")"
   ]
  },
  {
   "cell_type": "code",
   "execution_count": 3,
   "metadata": {},
   "outputs": [
    {
     "name": "stdout",
     "output_type": "stream",
     "text": [
      "Rows in dataset:  172\n",
      "Columns in dataset:  12\n"
     ]
    }
   ],
   "source": [
    "# checking the shape of the dataset\n",
    "print(\"Rows in dataset: \",data.shape[0])\n",
    "print(\"Columns in dataset: \",data.shape[1])"
   ]
  },
  {
   "cell_type": "code",
   "execution_count": 4,
   "metadata": {},
   "outputs": [
    {
     "data": {
      "text/plain": [
       "adm2_name     0\n",
       "adm2_code     0\n",
       "adm1_name     0\n",
       "AreaKm2       0\n",
       "AreaFLRisk    0\n",
       "PercFLRisk    0\n",
       "PercFLClas    0\n",
       "FLMaxFreq     0\n",
       "FLMaxClass    0\n",
       "FloodRisk     0\n",
       "FloodClass    0\n",
       "FloodText     0\n",
       "dtype: int64"
      ]
     },
     "execution_count": 4,
     "metadata": {},
     "output_type": "execute_result"
    }
   ],
   "source": [
    "# checking if there is any missing value in the data\n",
    "data.isnull().sum()"
   ]
  },
  {
   "cell_type": "markdown",
   "metadata": {},
   "source": [
    "## Data Cleaning"
   ]
  },
  {
   "cell_type": "code",
   "execution_count": 5,
   "metadata": {},
   "outputs": [
    {
     "data": {
      "text/html": [
       "<div>\n",
       "<style scoped>\n",
       "    .dataframe tbody tr th:only-of-type {\n",
       "        vertical-align: middle;\n",
       "    }\n",
       "\n",
       "    .dataframe tbody tr th {\n",
       "        vertical-align: top;\n",
       "    }\n",
       "\n",
       "    .dataframe thead th {\n",
       "        text-align: right;\n",
       "    }\n",
       "</style>\n",
       "<table border=\"1\" class=\"dataframe\">\n",
       "  <thead>\n",
       "    <tr style=\"text-align: right;\">\n",
       "      <th></th>\n",
       "      <th>AreaKm2</th>\n",
       "      <th>AreaFLRisk</th>\n",
       "      <th>PercFLRisk</th>\n",
       "      <th>PercFLClas</th>\n",
       "      <th>FLMaxFreq</th>\n",
       "      <th>FLMaxClass</th>\n",
       "      <th>FloodRisk</th>\n",
       "      <th>FloodClass</th>\n",
       "      <th>FloodText</th>\n",
       "    </tr>\n",
       "  </thead>\n",
       "  <tbody>\n",
       "    <tr>\n",
       "      <th>0</th>\n",
       "      <td>780</td>\n",
       "      <td>116</td>\n",
       "      <td>15</td>\n",
       "      <td>2</td>\n",
       "      <td>28</td>\n",
       "      <td>3</td>\n",
       "      <td>5</td>\n",
       "      <td>3</td>\n",
       "      <td>High</td>\n",
       "    </tr>\n",
       "    <tr>\n",
       "      <th>1</th>\n",
       "      <td>3469</td>\n",
       "      <td>2</td>\n",
       "      <td>0</td>\n",
       "      <td>1</td>\n",
       "      <td>2</td>\n",
       "      <td>1</td>\n",
       "      <td>2</td>\n",
       "      <td>1</td>\n",
       "      <td>Low</td>\n",
       "    </tr>\n",
       "    <tr>\n",
       "      <th>2</th>\n",
       "      <td>3200</td>\n",
       "      <td>202</td>\n",
       "      <td>6</td>\n",
       "      <td>1</td>\n",
       "      <td>21</td>\n",
       "      <td>3</td>\n",
       "      <td>4</td>\n",
       "      <td>2</td>\n",
       "      <td>Medium</td>\n",
       "    </tr>\n",
       "    <tr>\n",
       "      <th>3</th>\n",
       "      <td>9471</td>\n",
       "      <td>631</td>\n",
       "      <td>7</td>\n",
       "      <td>1</td>\n",
       "      <td>17</td>\n",
       "      <td>3</td>\n",
       "      <td>4</td>\n",
       "      <td>2</td>\n",
       "      <td>Medium</td>\n",
       "    </tr>\n",
       "    <tr>\n",
       "      <th>4</th>\n",
       "      <td>2916</td>\n",
       "      <td>72</td>\n",
       "      <td>2</td>\n",
       "      <td>1</td>\n",
       "      <td>21</td>\n",
       "      <td>3</td>\n",
       "      <td>4</td>\n",
       "      <td>2</td>\n",
       "      <td>Medium</td>\n",
       "    </tr>\n",
       "  </tbody>\n",
       "</table>\n",
       "</div>"
      ],
      "text/plain": [
       "   AreaKm2  AreaFLRisk  PercFLRisk  PercFLClas  FLMaxFreq  FLMaxClass  \\\n",
       "0      780         116          15           2         28           3   \n",
       "1     3469           2           0           1          2           1   \n",
       "2     3200         202           6           1         21           3   \n",
       "3     9471         631           7           1         17           3   \n",
       "4     2916          72           2           1         21           3   \n",
       "\n",
       "   FloodRisk  FloodClass FloodText  \n",
       "0          5           3      High  \n",
       "1          2           1       Low  \n",
       "2          4           2    Medium  \n",
       "3          4           2    Medium  \n",
       "4          4           2    Medium  "
      ]
     },
     "execution_count": 5,
     "metadata": {},
     "output_type": "execute_result"
    }
   ],
   "source": [
    "# Dropping column adm2_name, adm2_code and adm1_name since it does not have a correlation with target variable\n",
    "data.drop(columns=[\"adm2_name\", \"adm2_code\", \"adm1_name\"],inplace=True)\n",
    "data.head()"
   ]
  },
  {
   "cell_type": "code",
   "execution_count": 6,
   "metadata": {},
   "outputs": [
    {
     "data": {
      "text/html": [
       "<div>\n",
       "<style scoped>\n",
       "    .dataframe tbody tr th:only-of-type {\n",
       "        vertical-align: middle;\n",
       "    }\n",
       "\n",
       "    .dataframe tbody tr th {\n",
       "        vertical-align: top;\n",
       "    }\n",
       "\n",
       "    .dataframe thead th {\n",
       "        text-align: right;\n",
       "    }\n",
       "</style>\n",
       "<table border=\"1\" class=\"dataframe\">\n",
       "  <thead>\n",
       "    <tr style=\"text-align: right;\">\n",
       "      <th></th>\n",
       "      <th>AreaKm2</th>\n",
       "      <th>AreaFLRisk</th>\n",
       "      <th>PercFLRisk</th>\n",
       "      <th>PercFLClas</th>\n",
       "      <th>FLMaxFreq</th>\n",
       "      <th>FLMaxClass</th>\n",
       "      <th>FloodRisk</th>\n",
       "    </tr>\n",
       "  </thead>\n",
       "  <tbody>\n",
       "    <tr>\n",
       "      <th>0</th>\n",
       "      <td>780</td>\n",
       "      <td>116</td>\n",
       "      <td>15</td>\n",
       "      <td>2</td>\n",
       "      <td>28</td>\n",
       "      <td>3</td>\n",
       "      <td>5</td>\n",
       "    </tr>\n",
       "    <tr>\n",
       "      <th>1</th>\n",
       "      <td>3469</td>\n",
       "      <td>2</td>\n",
       "      <td>0</td>\n",
       "      <td>1</td>\n",
       "      <td>2</td>\n",
       "      <td>1</td>\n",
       "      <td>2</td>\n",
       "    </tr>\n",
       "    <tr>\n",
       "      <th>2</th>\n",
       "      <td>3200</td>\n",
       "      <td>202</td>\n",
       "      <td>6</td>\n",
       "      <td>1</td>\n",
       "      <td>21</td>\n",
       "      <td>3</td>\n",
       "      <td>4</td>\n",
       "    </tr>\n",
       "    <tr>\n",
       "      <th>3</th>\n",
       "      <td>9471</td>\n",
       "      <td>631</td>\n",
       "      <td>7</td>\n",
       "      <td>1</td>\n",
       "      <td>17</td>\n",
       "      <td>3</td>\n",
       "      <td>4</td>\n",
       "    </tr>\n",
       "    <tr>\n",
       "      <th>4</th>\n",
       "      <td>2916</td>\n",
       "      <td>72</td>\n",
       "      <td>2</td>\n",
       "      <td>1</td>\n",
       "      <td>21</td>\n",
       "      <td>3</td>\n",
       "      <td>4</td>\n",
       "    </tr>\n",
       "  </tbody>\n",
       "</table>\n",
       "</div>"
      ],
      "text/plain": [
       "   AreaKm2  AreaFLRisk  PercFLRisk  PercFLClas  FLMaxFreq  FLMaxClass  \\\n",
       "0      780         116          15           2         28           3   \n",
       "1     3469           2           0           1          2           1   \n",
       "2     3200         202           6           1         21           3   \n",
       "3     9471         631           7           1         17           3   \n",
       "4     2916          72           2           1         21           3   \n",
       "\n",
       "   FloodRisk  \n",
       "0          5  \n",
       "1          2  \n",
       "2          4  \n",
       "3          4  \n",
       "4          4  "
      ]
     },
     "execution_count": 6,
     "metadata": {},
     "output_type": "execute_result"
    }
   ],
   "source": [
    "# Also the FloodText, FloodClass columns are a representation of the FloodRisk column, so we drop FloodText & FloodClass columns\n",
    "data.drop(columns=[\"FloodText\", \"FloodClass\"],inplace=True)\n",
    "data.head()"
   ]
  },
  {
   "cell_type": "markdown",
   "metadata": {},
   "source": [
    "## Encoding"
   ]
  },
  {
   "cell_type": "code",
   "execution_count": 7,
   "metadata": {},
   "outputs": [
    {
     "data": {
      "text/html": [
       "<div>\n",
       "<style scoped>\n",
       "    .dataframe tbody tr th:only-of-type {\n",
       "        vertical-align: middle;\n",
       "    }\n",
       "\n",
       "    .dataframe tbody tr th {\n",
       "        vertical-align: top;\n",
       "    }\n",
       "\n",
       "    .dataframe thead th {\n",
       "        text-align: right;\n",
       "    }\n",
       "</style>\n",
       "<table border=\"1\" class=\"dataframe\">\n",
       "  <thead>\n",
       "    <tr style=\"text-align: right;\">\n",
       "      <th></th>\n",
       "      <th>AreaKm2</th>\n",
       "      <th>AreaFLRisk</th>\n",
       "      <th>PercFLRisk</th>\n",
       "      <th>PercFLClas</th>\n",
       "      <th>FLMaxFreq</th>\n",
       "      <th>FLMaxClass</th>\n",
       "      <th>FloodRisk</th>\n",
       "    </tr>\n",
       "  </thead>\n",
       "  <tbody>\n",
       "    <tr>\n",
       "      <th>0</th>\n",
       "      <td>780</td>\n",
       "      <td>116</td>\n",
       "      <td>15</td>\n",
       "      <td>2</td>\n",
       "      <td>28</td>\n",
       "      <td>3</td>\n",
       "      <td>3</td>\n",
       "    </tr>\n",
       "    <tr>\n",
       "      <th>1</th>\n",
       "      <td>3469</td>\n",
       "      <td>2</td>\n",
       "      <td>0</td>\n",
       "      <td>1</td>\n",
       "      <td>2</td>\n",
       "      <td>1</td>\n",
       "      <td>0</td>\n",
       "    </tr>\n",
       "    <tr>\n",
       "      <th>2</th>\n",
       "      <td>3200</td>\n",
       "      <td>202</td>\n",
       "      <td>6</td>\n",
       "      <td>1</td>\n",
       "      <td>21</td>\n",
       "      <td>3</td>\n",
       "      <td>2</td>\n",
       "    </tr>\n",
       "    <tr>\n",
       "      <th>3</th>\n",
       "      <td>9471</td>\n",
       "      <td>631</td>\n",
       "      <td>7</td>\n",
       "      <td>1</td>\n",
       "      <td>17</td>\n",
       "      <td>3</td>\n",
       "      <td>2</td>\n",
       "    </tr>\n",
       "    <tr>\n",
       "      <th>4</th>\n",
       "      <td>2916</td>\n",
       "      <td>72</td>\n",
       "      <td>2</td>\n",
       "      <td>1</td>\n",
       "      <td>21</td>\n",
       "      <td>3</td>\n",
       "      <td>2</td>\n",
       "    </tr>\n",
       "    <tr>\n",
       "      <th>5</th>\n",
       "      <td>1221</td>\n",
       "      <td>191</td>\n",
       "      <td>16</td>\n",
       "      <td>2</td>\n",
       "      <td>28</td>\n",
       "      <td>3</td>\n",
       "      <td>3</td>\n",
       "    </tr>\n",
       "    <tr>\n",
       "      <th>6</th>\n",
       "      <td>167</td>\n",
       "      <td>73</td>\n",
       "      <td>44</td>\n",
       "      <td>3</td>\n",
       "      <td>28</td>\n",
       "      <td>3</td>\n",
       "      <td>4</td>\n",
       "    </tr>\n",
       "    <tr>\n",
       "      <th>7</th>\n",
       "      <td>50337</td>\n",
       "      <td>963</td>\n",
       "      <td>2</td>\n",
       "      <td>1</td>\n",
       "      <td>10</td>\n",
       "      <td>2</td>\n",
       "      <td>1</td>\n",
       "    </tr>\n",
       "    <tr>\n",
       "      <th>8</th>\n",
       "      <td>45254</td>\n",
       "      <td>275</td>\n",
       "      <td>1</td>\n",
       "      <td>1</td>\n",
       "      <td>14</td>\n",
       "      <td>2</td>\n",
       "      <td>1</td>\n",
       "    </tr>\n",
       "    <tr>\n",
       "      <th>9</th>\n",
       "      <td>9273</td>\n",
       "      <td>556</td>\n",
       "      <td>6</td>\n",
       "      <td>1</td>\n",
       "      <td>21</td>\n",
       "      <td>3</td>\n",
       "      <td>2</td>\n",
       "    </tr>\n",
       "  </tbody>\n",
       "</table>\n",
       "</div>"
      ],
      "text/plain": [
       "   AreaKm2  AreaFLRisk  PercFLRisk  PercFLClas  FLMaxFreq  FLMaxClass  \\\n",
       "0      780         116          15           2         28           3   \n",
       "1     3469           2           0           1          2           1   \n",
       "2     3200         202           6           1         21           3   \n",
       "3     9471         631           7           1         17           3   \n",
       "4     2916          72           2           1         21           3   \n",
       "5     1221         191          16           2         28           3   \n",
       "6      167          73          44           3         28           3   \n",
       "7    50337         963           2           1         10           2   \n",
       "8    45254         275           1           1         14           2   \n",
       "9     9273         556           6           1         21           3   \n",
       "\n",
       "   FloodRisk  \n",
       "0          3  \n",
       "1          0  \n",
       "2          2  \n",
       "3          2  \n",
       "4          2  \n",
       "5          3  \n",
       "6          4  \n",
       "7          1  \n",
       "8          1  \n",
       "9          2  "
      ]
     },
     "execution_count": 7,
     "metadata": {},
     "output_type": "execute_result"
    }
   ],
   "source": [
    "from sklearn.preprocessing import LabelEncoder\n",
    "# transform and map pokemon generations\n",
    "label_func = LabelEncoder()\n",
    "labels = label_func.fit_transform(data['FloodRisk'])\n",
    "data['labelled'] = labels\n",
    "data.drop(columns = [\"FloodRisk\"], inplace=True)\n",
    "data.rename(columns={'labelled':'FloodRisk'}, inplace=True)\n",
    "data.head(10)"
   ]
  },
  {
   "cell_type": "markdown",
   "metadata": {},
   "source": [
    "## Data Splitting"
   ]
  },
  {
   "cell_type": "code",
   "execution_count": 8,
   "metadata": {},
   "outputs": [],
   "source": [
    "# Splitting the data into dependent variables(X) and the required target valiable(Y)\n",
    "X = data.iloc[:,0:6]\n",
    "Y = data[\"FloodRisk\"]"
   ]
  },
  {
   "cell_type": "code",
   "execution_count": 9,
   "metadata": {},
   "outputs": [
    {
     "data": {
      "image/png": "[encoded data removed]",
      "text/plain": [
       "<Figure size 432x288 with 6 Axes>"
      ]
     },
     "metadata": {
      "needs_background": "light"
     },
     "output_type": "display_data"
    }
   ],
   "source": [
    "# checking the distribution of data by plotting a histogram\n",
    "X.iloc[:,:].hist()\n",
    "plt.show()"
   ]
  },
  {
   "cell_type": "markdown",
   "metadata": {},
   "source": [
    "## Data Normalization"
   ]
  },
  {
   "cell_type": "code",
   "execution_count": 10,
   "metadata": {},
   "outputs": [
    {
     "data": {
      "text/plain": [
       "array([[3.78468437e-03, 2.81621753e-02, 3.40909091e-01, 5.00000000e-01,\n",
       "        1.00000000e+00, 1.00000000e+00],\n",
       "       [1.76121521e-02, 4.85554746e-04, 0.00000000e+00, 0.00000000e+00,\n",
       "        7.14285714e-02, 0.00000000e+00],\n",
       "       [1.62288911e-02, 4.90410294e-02, 1.36363636e-01, 0.00000000e+00,\n",
       "        7.50000000e-01, 1.00000000e+00],\n",
       "       ...,\n",
       "       [1.50770307e-02, 4.85554746e-04, 0.00000000e+00, 0.00000000e+00,\n",
       "        7.14285714e-02, 0.00000000e+00],\n",
       "       [1.58586503e-02, 0.00000000e+00, 0.00000000e+00, 0.00000000e+00,\n",
       "        0.00000000e+00, 0.00000000e+00],\n",
       "       [1.15031779e-02, 0.00000000e+00, 0.00000000e+00, 0.00000000e+00,\n",
       "        0.00000000e+00, 0.00000000e+00]])"
      ]
     },
     "execution_count": 10,
     "metadata": {},
     "output_type": "execute_result"
    }
   ],
   "source": [
    "# Since the is not distributed evenly, we can scale it in the range of 0 to 1\n",
    "scaler = MinMaxScaler(feature_range=(0,1))\n",
    "scaler.fit(X).transform(X)"
   ]
  },
  {
   "cell_type": "markdown",
   "metadata": {},
   "source": [
    "## Train Test Splitting"
   ]
  },
  {
   "cell_type": "code",
   "execution_count": 11,
   "metadata": {},
   "outputs": [],
   "source": [
    "X_train, X_test, Y_train, Y_test = train_test_split(X,Y, test_size = 0.2)"
   ]
  },
  {
   "cell_type": "markdown",
   "metadata": {},
   "source": [
    "## Loading the models and Training"
   ]
  },
  {
   "cell_type": "code",
   "execution_count": 12,
   "metadata": {},
   "outputs": [],
   "source": [
    "# Importing the required libraries and loading models\n",
    "from sklearn.naive_bayes import GaussianNB\n",
    "from sklearn import tree\n",
    "from sklearn import svm\n",
    "from sklearn.neighbors import KNeighborsClassifier\n",
    "\n",
    "naive_bayes = GaussianNB()\n",
    "dec_tree = tree.DecisionTreeClassifier()\n",
    "svm_model = svm.SVC()\n",
    "KNN = KNeighborsClassifier(5)"
   ]
  },
  {
   "cell_type": "code",
   "execution_count": 13,
   "metadata": {},
   "outputs": [
    {
     "data": {
      "text/plain": [
       "KNeighborsClassifier()"
      ]
     },
     "execution_count": 13,
     "metadata": {},
     "output_type": "execute_result"
    }
   ],
   "source": [
    "# Training the models on the training sets\n",
    "naive_bayes.fit(X_train, Y_train)\n",
    "dec_tree.fit(X_train, Y_train)\n",
    "svm_model.fit(X_train, Y_train)\n",
    "KNN.fit(X_train, Y_train)"
   ]
  },
  {
   "cell_type": "markdown",
   "metadata": {},
   "source": [
    "## Making Predictions using trained models"
   ]
  },
  {
   "cell_type": "code",
   "execution_count": 14,
   "metadata": {},
   "outputs": [],
   "source": [
    "Y_pred1 = naive_bayes.predict(X_test)\n",
    "Y_pred2 = dec_tree.predict(X_test)\n",
    "Y_pred3 = svm_model.predict(X_test)\n",
    "Y_pred4 = KNN.predict(X_test)"
   ]
  },
  {
   "cell_type": "code",
   "execution_count": 15,
   "metadata": {},
   "outputs": [
    {
     "name": "stdout",
     "output_type": "stream",
     "text": [
      "\t\tACCURACY SCORES\n",
      "Naive Bayes Classifier:  0.8285714285714286\n",
      "Decision Tree Classifier:  0.9714285714285714\n",
      "Support Vector Machine:  0.5428571428571428\n",
      "K-Nearest Neighbour(KNN):  0.4857142857142857\n"
     ]
    }
   ],
   "source": [
    "# Comparing the accuracy score of all the four models\n",
    "print(\"\\t\\tACCURACY SCORES\")\n",
    "print(\"Naive Bayes Classifier: \",accuracy_score(Y_test,Y_pred1))\n",
    "print(\"Decision Tree Classifier: \",accuracy_score(Y_test,Y_pred2))\n",
    "print(\"Support Vector Machine: \",accuracy_score(Y_test,Y_pred3))\n",
    "print(\"K-Nearest Neighbour(KNN): \",accuracy_score(Y_test,Y_pred4))"
   ]
  },
  {
   "cell_type": "code",
   "execution_count": 16,
   "metadata": {},
   "outputs": [
    {
     "data": {
      "text/plain": [
       "<BarContainer object of 4 artists>"
      ]
     },
     "execution_count": 16,
     "metadata": {},
     "output_type": "execute_result"
    },
    {
     "data": {
      "image/png": "[encoded data removed]",
      "text/plain": [
       "<Figure size 432x288 with 1 Axes>"
      ]
     },
     "metadata": {
      "needs_background": "light"
     },
     "output_type": "display_data"
    }
   ],
   "source": [
    "plt.bar(['Naive Bayes', 'Decision Tree', 'SVM', 'KNN'], [accuracy_score(Y_test,Y_pred1),accuracy_score(Y_test,Y_pred2),accuracy_score(Y_test,Y_pred3),accuracy_score(Y_test,Y_pred4)])"
   ]
  },
  {
   "cell_type": "code",
   "execution_count": 17,
   "metadata": {},
   "outputs": [],
   "source": [
    "# Function for Plotting the Confusion Matrix\n",
    "import seaborn as sns\n",
    "def plot_cm(cm_df, algo_name):\n",
    "    plt.figure(figsize=(5,4))\n",
    "    sns.heatmap(cm_df, annot=True)\n",
    "    plt.title('Confusion Matrix'+algo_name)\n",
    "    plt.ylabel('Actual Values')\n",
    "    plt.xlabel('Predicted Values')\n",
    "    plt.show()"
   ]
  },
  {
   "cell_type": "code",
   "execution_count": 18,
   "metadata": {},
   "outputs": [],
   "source": [
    "from sklearn.metrics import confusion_matrix\n",
    "cm1 = confusion_matrix(Y_test, Y_pred1)\n",
    "cm2 = confusion_matrix(Y_test, Y_pred2)\n",
    "cm3 = confusion_matrix(Y_test, Y_pred3)\n",
    "cm4 = confusion_matrix(Y_test, Y_pred4)\n",
    "\n",
    "cm_df1 = pd.DataFrame(cm1, index = [0,1,2,3,4], columns = [0,1,2,3,4])\n",
    "cm_df2 = pd.DataFrame(cm2, index = [0,1,2,3,4], columns = [0,1,2,3,4])\n",
    "cm_df3 = pd.DataFrame(cm3, index = [0,1,2,3,4], columns = [0,1,2,3,4])\n",
    "cm_df4 = pd.DataFrame(cm4, index = [0,1,2,3,4], columns = [0,1,2,3,4])"
   ]
  },
  {
   "cell_type": "code",
   "execution_count": 19,
   "metadata": {
    "scrolled": true
   },
   "outputs": [
    {
     "data": {
      "image/png": "[encoded data removed]",
      "text/plain": [
       "<Figure size 360x288 with 2 Axes>"
      ]
     },
     "metadata": {
      "needs_background": "light"
     },
     "output_type": "display_data"
    }
   ],
   "source": [
    "plot_cm(cm_df1,\" Naive Bayes\")"
   ]
  },
  {
   "cell_type": "code",
   "execution_count": 20,
   "metadata": {},
   "outputs": [
    {
     "data": {
      "image/png": "[encoded data removed]",
      "text/plain": [
       "<Figure size 360x288 with 2 Axes>"
      ]
     },
     "metadata": {
      "needs_background": "light"
     },
     "output_type": "display_data"
    }
   ],
   "source": [
    "plot_cm(cm_df2,\" Decision Tree\")"
   ]
  },
  {
   "cell_type": "code",
   "execution_count": 21,
   "metadata": {},
   "outputs": [
    {
     "data": {
      "image/png": "[encoded data removed]",
      "text/plain": [
       "<Figure size 360x288 with 2 Axes>"
      ]
     },
     "metadata": {
      "needs_background": "light"
     },
     "output_type": "display_data"
    }
   ],
   "source": [
    "plot_cm(cm_df3,\" SVM\")"
   ]
  },
  {
   "cell_type": "code",
   "execution_count": 22,
   "metadata": {},
   "outputs": [
    {
     "data": {
      "image/png": "[encoded data removed]",
      "text/plain": [
       "<Figure size 360x288 with 2 Axes>"
      ]
     },
     "metadata": {
      "needs_background": "light"
     },
     "output_type": "display_data"
    }
   ],
   "source": [
    "plot_cm(cm_df4, \" KNN\")"
   ]
  },
  {
   "cell_type": "markdown",
   "metadata": {},
   "source": [
    "## Result Analysis\n",
    "From the above accuracy scores, we can say that Naive Bayes Classifier has the best prediction among the 4 models.\n",
    "Though Decision Tree Classifier has an accuracy score of 100%, it clearly shows that the model is overfitted on the data because the data available is quite less.\n",
    "So we can rely greatly upon Naive Bayes Classifier for predicting the risk of flood in a area.\n",
    "            Flood Risk                Flood Class<br>\n",
    "            1)    0  -->                    Low Risk<br>\n",
    "            2)    1  -->                   Medium Risk<br>\n",
    "            3)    2  -->                   Medium Risk<br>\n",
    "            4)    3  -->                    High Risk<br>\n",
    "            5)    4  -->                    High Risk<br>"
   ]
  },
  {
   "cell_type": "markdown",
   "metadata": {},
   "source": [
    "## How the model might help in reducing Flood After Effects\n",
    "If we get an idea of the intensity and the class of flood, classified as High Risk(3-4) / Medium Risk(1-2) / Low Risk(0), we can put the rescue teams to operate accordingly on specific zones, where the FloodClass or Risk is High.\n",
    "Thus the above AI solution might help in reducing the loss of life and damage by predicting the intensity of flood risk beforehand in specific regions by taking into account the various attributes like AreaFLRisk , AreaKm2, etc."
   ]
  },
  {
   "cell_type": "markdown",
   "metadata": {},
   "source": [
    "## Model Persistence"
   ]
  },
  {
   "cell_type": "code",
   "execution_count": 23,
   "metadata": {},
   "outputs": [
    {
     "data": {
      "text/plain": [
       "['KNearestNeighbour.joblib']"
      ]
     },
     "execution_count": 23,
     "metadata": {},
     "output_type": "execute_result"
    }
   ],
   "source": [
    "# Exporting the models\n",
    "import joblib\n",
    "joblib.dump(naive_bayes,'NaiveBayesClassifier.joblib')\n",
    "joblib.dump(dec_tree,'DecisionTreeClassifier.joblib')\n",
    "joblib.dump(svm_model,'SVM_model.joblib')\n",
    "joblib.dump(KNN,'KNearestNeighbour.joblib')"
   ]
  },
  {
   "cell_type": "markdown",
   "metadata": {},
   "source": [
    "## Loading the model\n",
    "we can load the \"model_name.joblib\" file by importing the joblib library then,\n",
    "> model = joblib.load('model_name.joblib')\n",
    "\n",
    "To make predictions using the model, we can pass a numpy nd-array to the loaded model as,\n",
    "> predictions = model_loaded.predict([[YEAR,JAN,FEB,MAR,APR,MAY,JUN,JULY,AUG,SEP,OCT,NOV,DEV], [..], .....)"
   ]
  }
 ],
 "metadata": {
  "kernelspec": {
   "display_name": "Python 3",
   "language": "python",
   "name": "python3"
  },
  "language_info": {
   "codemirror_mode": {
    "name": "ipython",
    "version": 3
   },
   "file_extension": ".py",
   "mimetype": "text/x-python",
   "name": "python",
   "nbconvert_exporter": "python",
   "pygments_lexer": "ipython3",
   "version": "3.8.5"
  }
 },
 "nbformat": 4,
 "nbformat_minor": 4
}
